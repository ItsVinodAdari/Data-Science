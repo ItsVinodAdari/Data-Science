{
 "cells": [
  {
   "cell_type": "code",
   "execution_count": 33,
   "metadata": {},
   "outputs": [],
   "source": [
    "import pandas as pd\n",
    "import sqlite3\n",
    "\n",
    "# creating connection to database\n",
    "conn = sqlite3.connect(\"../datasets/database.sqlite\")\n",
    "\n",
    "# fetching actual tables in database and \n",
    "# tables [reviews,artists,genres,labels,years,content]\n",
    "tables = pd.read_sql(\n",
    "    \"SELECT name FROM sqlite_master WHERE type='table' AND name NOT LIKE 'sqlite_%'\", conn)\n"
   ]
  },
  {
   "cell_type": "code",
   "execution_count": 47,
   "metadata": {},
   "outputs": [],
   "source": [
    "#  case statement by condition expression\n",
    "years = pd.read_sql(\n",
    "    'SELECT reviewid, IFNULL(year,0), CASE WHEN year < 2010 THEN \"the year less than 2010\" ELSE \"the year more than 2010\" END AS yeartext FROM years', conn)\n",
    "\n",
    "# fetching years column without null\n",
    "years_without_null = pd.read_sql('SELECT * FROM years WHERE year IS NOT NULL', conn)\n"
   ]
  },
  {
   "cell_type": "code",
   "execution_count": 35,
   "metadata": {},
   "outputs": [],
   "source": [
    "# using aggregate function COUNT and null function\n",
    "years = pd.read_sql('SELECT COUNT(year), IFNULL(year,\"vinodh\") FROM years GROUP BY year', conn)\n"
   ]
  },
  {
   "cell_type": "code",
   "execution_count": null,
   "metadata": {},
   "outputs": [],
   "source": [
    "# fetching reviews table with conn\n",
    "reviews = pd.read_sql(\"SELECT * FROM reviews INNER JOIN artists WHERE reviews.reviewid < '10'\", conn)\n"
   ]
  }
 ],
 "metadata": {
  "kernelspec": {
   "display_name": "Python 3",
   "language": "python",
   "name": "python3"
  },
  "language_info": {
   "codemirror_mode": {
    "name": "ipython",
    "version": 3
   },
   "file_extension": ".py",
   "mimetype": "text/x-python",
   "name": "python",
   "nbconvert_exporter": "python",
   "pygments_lexer": "ipython3",
   "version": "3.6.8"
  }
 },
 "nbformat": 4,
 "nbformat_minor": 2
}

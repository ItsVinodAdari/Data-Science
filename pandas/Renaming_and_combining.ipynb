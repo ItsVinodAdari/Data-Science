{
 "cells": [
  {
   "cell_type": "code",
   "execution_count": 1,
   "metadata": {},
   "outputs": [
    {
     "data": {
      "text/html": [
       "<div>\n",
       "<style scoped>\n",
       "    .dataframe tbody tr th:only-of-type {\n",
       "        vertical-align: middle;\n",
       "    }\n",
       "\n",
       "    .dataframe tbody tr th {\n",
       "        vertical-align: top;\n",
       "    }\n",
       "\n",
       "    .dataframe thead th {\n",
       "        text-align: right;\n",
       "    }\n",
       "</style>\n",
       "<table border=\"1\" class=\"dataframe\">\n",
       "  <thead>\n",
       "    <tr style=\"text-align: right;\">\n",
       "      <th></th>\n",
       "      <th>country</th>\n",
       "      <th>description</th>\n",
       "      <th>designation</th>\n",
       "      <th>points</th>\n",
       "      <th>price</th>\n",
       "      <th>province</th>\n",
       "      <th>region_1</th>\n",
       "      <th>region_2</th>\n",
       "      <th>taster_name</th>\n",
       "      <th>taster_twitter_handle</th>\n",
       "      <th>title</th>\n",
       "      <th>variety</th>\n",
       "      <th>winery</th>\n",
       "    </tr>\n",
       "  </thead>\n",
       "  <tbody>\n",
       "    <tr>\n",
       "      <td>0</td>\n",
       "      <td>Italy</td>\n",
       "      <td>Aromas include tropical fruit, broom, brimston...</td>\n",
       "      <td>Vulkà Bianco</td>\n",
       "      <td>87</td>\n",
       "      <td>NaN</td>\n",
       "      <td>Sicily &amp; Sardinia</td>\n",
       "      <td>Etna</td>\n",
       "      <td>NaN</td>\n",
       "      <td>Kerin O’Keefe</td>\n",
       "      <td>@kerinokeefe</td>\n",
       "      <td>Nicosia 2013 Vulkà Bianco  (Etna)</td>\n",
       "      <td>White Blend</td>\n",
       "      <td>Nicosia</td>\n",
       "    </tr>\n",
       "  </tbody>\n",
       "</table>\n",
       "</div>"
      ],
      "text/plain": [
       "  country                                        description   designation  \\\n",
       "0   Italy  Aromas include tropical fruit, broom, brimston...  Vulkà Bianco   \n",
       "\n",
       "   points  price           province region_1 region_2    taster_name  \\\n",
       "0      87    NaN  Sicily & Sardinia     Etna      NaN  Kerin O’Keefe   \n",
       "\n",
       "  taster_twitter_handle                              title      variety  \\\n",
       "0          @kerinokeefe  Nicosia 2013 Vulkà Bianco  (Etna)  White Blend   \n",
       "\n",
       "    winery  \n",
       "0  Nicosia  "
      ]
     },
     "execution_count": 1,
     "metadata": {},
     "output_type": "execute_result"
    }
   ],
   "source": [
    "import pandas as pd\n",
    "\n",
    "reviews = pd.read_csv('../datasets/wine_reviews.csv',index_col=0)\n",
    "reviews.head(1)"
   ]
  },
  {
   "cell_type": "code",
   "execution_count": 2,
   "metadata": {},
   "outputs": [],
   "source": [
    "# renaming column names -> region_1 to region and region_2 to locale\n",
    "\n",
    "renaming_type1 = reviews.rename(columns={'region_1':'region','region_2':'locale'})\n",
    "\n",
    "# or renaming_type2 = reviews.rename(columns = dict(region_1 = 'region', region_2 = 'locale'))\n"
   ]
  },
  {
   "cell_type": "code",
   "execution_count": 4,
   "metadata": {},
   "outputs": [],
   "source": [
    "# setting index rows name to S.No & columns name to labels \n",
    "reindexed = reviews.rename_axis('S.No',axis='rows').rename_axis('labels',axis=\"columns\")\n",
    "\n",
    "# renaming index values to int to str \n",
    "reindex2 = reviews.rename(index = {0:'First Entry',1:'Second Entry'})\n"
   ]
  },
  {
   "cell_type": "code",
   "execution_count": 46,
   "metadata": {},
   "outputs": [
    {
     "data": {
      "text/html": [
       "<div>\n",
       "<style scoped>\n",
       "    .dataframe tbody tr th:only-of-type {\n",
       "        vertical-align: middle;\n",
       "    }\n",
       "\n",
       "    .dataframe tbody tr th {\n",
       "        vertical-align: top;\n",
       "    }\n",
       "\n",
       "    .dataframe thead th {\n",
       "        text-align: right;\n",
       "    }\n",
       "</style>\n",
       "<table border=\"1\" class=\"dataframe\">\n",
       "  <thead>\n",
       "    <tr style=\"text-align: right;\">\n",
       "      <th></th>\n",
       "      <th>name</th>\n",
       "      <th>role</th>\n",
       "      <th>name1</th>\n",
       "      <th>role1</th>\n",
       "    </tr>\n",
       "    <tr>\n",
       "      <th>index</th>\n",
       "      <th></th>\n",
       "      <th></th>\n",
       "      <th></th>\n",
       "      <th></th>\n",
       "    </tr>\n",
       "  </thead>\n",
       "  <tbody>\n",
       "    <tr>\n",
       "      <td>1</td>\n",
       "      <td>john</td>\n",
       "      <td>Java Developer</td>\n",
       "      <td>Akhil</td>\n",
       "      <td>python Developer</td>\n",
       "    </tr>\n",
       "    <tr>\n",
       "      <td>2</td>\n",
       "      <td>krish</td>\n",
       "      <td>Java Developer</td>\n",
       "      <td>vasanth</td>\n",
       "      <td>python Developer</td>\n",
       "    </tr>\n",
       "    <tr>\n",
       "      <td>3</td>\n",
       "      <td>sam</td>\n",
       "      <td>Java Developer</td>\n",
       "      <td>Edsheren</td>\n",
       "      <td>python Developer</td>\n",
       "    </tr>\n",
       "    <tr>\n",
       "      <td>4</td>\n",
       "      <td>vinvals</td>\n",
       "      <td>Java Developer</td>\n",
       "      <td>camila cabello</td>\n",
       "      <td>python Developer</td>\n",
       "    </tr>\n",
       "  </tbody>\n",
       "</table>\n",
       "</div>"
      ],
      "text/plain": [
       "          name            role           name1             role1\n",
       "index                                                           \n",
       "1         john  Java Developer           Akhil  python Developer\n",
       "2        krish  Java Developer         vasanth  python Developer\n",
       "3          sam  Java Developer        Edsheren  python Developer\n",
       "4      vinvals  Java Developer  camila cabello  python Developer"
      ]
     },
     "execution_count": 46,
     "metadata": {},
     "output_type": "execute_result"
    }
   ],
   "source": [
    "# creating dataframes for applied jobs on java and python\n",
    "# applied java developers\n",
    "df1 = pd.DataFrame({'name':['john','krish','sam','vinvals'],'role':'Java Developer','index':[1,2,3,4]})\n",
    "\n",
    "# applied python developers\n",
    "df2 = pd.DataFrame({'name':['Akhil','vasanth','Edsheren','camila cabello'],'role':'python Developer','index':[1,2,3,4]})\n",
    "\n",
    "# concating two split dataframes into single sheet, \n",
    "# using axis(1) - the data will concat to column otherwise would concat to row\n",
    "total_applied = pd.concat([df1,df2],axis=1)\n",
    "# total_applied\n",
    "\n",
    "# setting index to indices\n",
    "left = df1.set_index('index')\n",
    "right = df2.set_index('index')\n",
    "\n",
    "# IN JOIN suffix parameters will add the suffix_value before column_name \n",
    "# if column names are same(we wouldn't need them to rename)\n",
    "# should have same length of index values in both Dframes...\n",
    "left.join(right, lsuffix=\"_java\", rsuffix=\"_python\")\n"
   ]
  }
 ],
 "metadata": {
  "kernelspec": {
   "display_name": "Python 3",
   "language": "python",
   "name": "python3"
  },
  "language_info": {
   "codemirror_mode": {
    "name": "ipython",
    "version": 3
   },
   "file_extension": ".py",
   "mimetype": "text/x-python",
   "name": "python",
   "nbconvert_exporter": "python",
   "pygments_lexer": "ipython3",
   "version": "3.6.8"
  }
 },
 "nbformat": 4,
 "nbformat_minor": 2
}

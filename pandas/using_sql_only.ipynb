{
 "cells": [
  {
   "cell_type": "code",
   "execution_count": 1,
   "metadata": {},
   "outputs": [],
   "source": [
    "import pandas as pd\n",
    "import sqlite3\n",
    "\n",
    "# creating connection to database\n",
    "conn = sqlite3.connect(\"../datasets/database.sqlite\")\n",
    "\n",
    "# fetching actual tables in database and \n",
    "# tables [reviews,artists,genres,labels,years,content]\n",
    "tables = pd.read_sql(\n",
    "    \"SELECT name FROM sqlite_master WHERE type='table' AND name NOT LIKE 'sqlite_%'\", conn)\n"
   ]
  },
  {
   "cell_type": "code",
   "execution_count": 2,
   "metadata": {},
   "outputs": [],
   "source": [
    "#  case statement by condition expression\n",
    "years = pd.read_sql(\n",
    "    'SELECT reviewid, IFNULL(year,0), CASE WHEN year < 2010 THEN \"the year less than 2010\" ELSE \"the year more than 2010\" END AS yeartext FROM years', conn)\n",
    "\n",
    "# fetching years column without null\n",
    "years_without_null = pd.read_sql('SELECT * FROM years WHERE year IS NOT NULL', conn)\n",
    "\n",
    "# fecthing DISTINCT(different values only) years \n",
    "distinct_years = pd.read_sql('SELECT DISTINCT year FROM years', conn)\n"
   ]
  },
  {
   "cell_type": "code",
   "execution_count": 5,
   "metadata": {},
   "outputs": [],
   "source": [
    "#  ordering by year ascending(ASC)\n",
    "asc_years = pd.read_sql('SELECT * FROM years WHERE year IS NOT NULL ORDER BY year', conn)\n",
    "\n",
    "# using aggregate function COUNT and null function\n",
    "years_count = pd.read_sql('SELECT COUNT(year), IFNULL(year,0000) FROM years GROUP BY year', conn)"
   ]
  },
  {
   "cell_type": "code",
   "execution_count": 13,
   "metadata": {},
   "outputs": [],
   "source": [
    "# fetching reviews and artists using INNER JOIN table by conn\n",
    "reviews = pd.read_sql(\"SELECT * FROM reviews INNER JOIN artists WHERE reviews.reviewid LIMIT '10'\", conn)\n",
    "\n",
    "# fetching 5 last rows as first index rows with asc\n",
    "last_five_rows_of_years = pd.read_sql('SELECT * FROM (SELECT * FROM years ORDER BY reviewid DESC LIMIT 5) ORDER BY reviewid ASC', conn)\n"
   ]
  }
 ],
 "metadata": {
  "kernelspec": {
   "display_name": "Python 3",
   "language": "python",
   "name": "python3"
  },
  "language_info": {
   "codemirror_mode": {
    "name": "ipython",
    "version": 3
   },
   "file_extension": ".py",
   "mimetype": "text/x-python",
   "name": "python",
   "nbconvert_exporter": "python",
   "pygments_lexer": "ipython3",
   "version": "3.6.8"
  }
 },
 "nbformat": 4,
 "nbformat_minor": 2
}

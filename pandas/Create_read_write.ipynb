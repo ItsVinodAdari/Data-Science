{
 "cells": [
  {
   "cell_type": "code",
   "execution_count": 1,
   "metadata": {},
   "outputs": [],
   "source": [
    "import pandas as pd\n",
    "\n",
    "# They are two core objects in pandas - DataFrame, Series\n",
    "# creating Data\n",
    "data = dict(Apples = [35,42],Bananas = [24,33])\n",
    "\n",
    "# Initializing Data in DataFrame Constructor...\n",
    "df1 = pd.DataFrame(data,index = ['2019 Sales', '2018 Sales'])\n"
   ]
  },
  {
   "cell_type": "code",
   "execution_count": 2,
   "metadata": {},
   "outputs": [],
   "source": [
    "# creating Series\n",
    "# A series is, in essence, a single column of DataFrame\n",
    "# Series do not have column name, It only has a overall name\n",
    "# example 1\n",
    "sales = pd.Series([151,184,172],index = ['2019 Sales', '2018 Sales','2017 Sales'], name=\"Sales\")\n",
    "\n",
    "# example 2\n",
    "ingredients = pd.Series(['4 cups','1 cup','2 large','1 can'],index=['Flour','Milk','Eggs','Spam'], name='Dinner')\n"
   ]
  },
  {
   "cell_type": "code",
   "execution_count": 3,
   "metadata": {},
   "outputs": [],
   "source": [
    "import sqlite3\n",
    "\n",
    "# Initializing connection\n",
    "conn = sqlite3.connect('../datasets/database.sqlite')\n",
    "\n",
    "# fetching data using SQL query\n",
    "reviews = pd.read_sql('SELECT * FROM reviews', conn)\n",
    "\n",
    "# get no of rows and columns using shape attribute\n",
    "total = reviews.shape\n",
    "\n",
    "# get Initial 5 rows using head() method\n",
    "head = reviews.head()\n"
   ]
  },
  {
   "cell_type": "code",
   "execution_count": 7,
   "metadata": {},
   "outputs": [],
   "source": [
    "# to write an excel file you need to_excel and sheet_name \n",
    "# to write sql then use to_sql\n",
    "# to write csv then use to_csv\n",
    "ingredients.to_excel('../datasets/test.xlsx', sheet_name=\"Ingredients\")"
   ]
  }
 ],
 "metadata": {
  "kernelspec": {
   "display_name": "Python 3",
   "language": "python",
   "name": "python3"
  },
  "language_info": {
   "codemirror_mode": {
    "name": "ipython",
    "version": 3
   },
   "file_extension": ".py",
   "mimetype": "text/x-python",
   "name": "python",
   "nbconvert_exporter": "python",
   "pygments_lexer": "ipython3",
   "version": "3.6.8"
  }
 },
 "nbformat": 4,
 "nbformat_minor": 2
}

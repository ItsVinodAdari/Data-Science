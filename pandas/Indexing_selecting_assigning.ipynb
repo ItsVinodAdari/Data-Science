{
 "cells": [
  {
   "cell_type": "code",
   "execution_count": 1,
   "metadata": {},
   "outputs": [
    {
     "data": {
      "text/html": [
       "<div>\n",
       "<style scoped>\n",
       "    .dataframe tbody tr th:only-of-type {\n",
       "        vertical-align: middle;\n",
       "    }\n",
       "\n",
       "    .dataframe tbody tr th {\n",
       "        vertical-align: top;\n",
       "    }\n",
       "\n",
       "    .dataframe thead th {\n",
       "        text-align: right;\n",
       "    }\n",
       "</style>\n",
       "<table border=\"1\" class=\"dataframe\">\n",
       "  <thead>\n",
       "    <tr style=\"text-align: right;\">\n",
       "      <th></th>\n",
       "      <th>country</th>\n",
       "      <th>description</th>\n",
       "      <th>designation</th>\n",
       "      <th>points</th>\n",
       "      <th>price</th>\n",
       "      <th>province</th>\n",
       "      <th>region_1</th>\n",
       "      <th>region_2</th>\n",
       "      <th>taster_name</th>\n",
       "      <th>taster_twitter_handle</th>\n",
       "      <th>title</th>\n",
       "      <th>variety</th>\n",
       "      <th>winery</th>\n",
       "    </tr>\n",
       "  </thead>\n",
       "  <tbody>\n",
       "    <tr>\n",
       "      <td>0</td>\n",
       "      <td>Italy</td>\n",
       "      <td>Aromas include tropical fruit, broom, brimston...</td>\n",
       "      <td>Vulkà Bianco</td>\n",
       "      <td>87</td>\n",
       "      <td>NaN</td>\n",
       "      <td>Sicily &amp; Sardinia</td>\n",
       "      <td>Etna</td>\n",
       "      <td>NaN</td>\n",
       "      <td>Kerin O’Keefe</td>\n",
       "      <td>@kerinokeefe</td>\n",
       "      <td>Nicosia 2013 Vulkà Bianco  (Etna)</td>\n",
       "      <td>White Blend</td>\n",
       "      <td>Nicosia</td>\n",
       "    </tr>\n",
       "  </tbody>\n",
       "</table>\n",
       "</div>"
      ],
      "text/plain": [
       "  country                                        description   designation  \\\n",
       "0   Italy  Aromas include tropical fruit, broom, brimston...  Vulkà Bianco   \n",
       "\n",
       "   points  price           province region_1 region_2    taster_name  \\\n",
       "0      87    NaN  Sicily & Sardinia     Etna      NaN  Kerin O’Keefe   \n",
       "\n",
       "  taster_twitter_handle                              title      variety  \\\n",
       "0          @kerinokeefe  Nicosia 2013 Vulkà Bianco  (Etna)  White Blend   \n",
       "\n",
       "    winery  \n",
       "0  Nicosia  "
      ]
     },
     "execution_count": 1,
     "metadata": {},
     "output_type": "execute_result"
    }
   ],
   "source": [
    "#  For data manipulation\n",
    "import pandas as pd\n",
    "# setting option\n",
    "pd.set_option(\"display.max_rows\",5)\n",
    "reviews = pd.read_csv(\"../datasets/wine_reviews.csv\",index_col=0)\n",
    "\n",
    "reviews[:1]\n"
   ]
  },
  {
   "cell_type": "code",
   "execution_count": 2,
   "metadata": {},
   "outputs": [],
   "source": [
    "# selecting first value of description column and assigning to variable\n",
    "First_description = reviews['description'][0]\n"
   ]
  },
  {
   "cell_type": "code",
   "execution_count": 20,
   "metadata": {},
   "outputs": [
    {
     "data": {
      "text/plain": [
       "0          Italy\n",
       "1          12345\n",
       "           ...  \n",
       "129969      9999\n",
       "129970    France\n",
       "Name: country, Length: 129971, dtype: object"
      ]
     },
     "execution_count": 20,
     "metadata": {},
     "output_type": "execute_result"
    }
   ],
   "source": [
    "# checkout https://pandas.pydata.org/pandas-docs/stable/reference/api/pandas.DataFrame.loc.html\n",
    "\n",
    "# Both loc and iloc are row-first, column-second.\n",
    "# This is the opposite of what we do in native Python, which is column-first, row-second.\n",
    "\n",
    "# using iloc method when index label of dataframe is something other than numeric series[o,1,2,3...]\n",
    "# or incase user doesn't know index value\n",
    "# reviews.iloc[:,0]\n",
    "single_row = reviews.iloc[0]\n",
    "\n",
    "# selecting first 10 values from description column and assigning to variable\n",
    "first_descriptions = reviews.description.iloc[:10]\n",
    "# first_descriptions\n"
   ]
  },
  {
   "cell_type": "code",
   "execution_count": 4,
   "metadata": {},
   "outputs": [],
   "source": [
    "# selecting records with index labels 1,2,3,5,8,10 AND assigning the result to variable\n",
    "indices = [1,2,3,5,8,10]\n",
    "\n",
    "selected_records = reviews.iloc[indices]\n",
    "\n",
    "# selected_records\n"
   ]
  },
  {
   "cell_type": "code",
   "execution_count": 5,
   "metadata": {},
   "outputs": [],
   "source": [
    "# selecting records with column names ['country','description','region_1','region_2','province'] \n",
    "# And index labels [1,2,3,5,8,10]\n",
    "# using loc lable based method .loc[row_indices, column_indices] \n",
    "indices, columns = [1,2,3,5,8,10], ['country','description','region_1','region_2','province']\n",
    "custom_record = reviews.loc[indices,columns]\n",
    "# custom_record\n",
    "\n",
    "# or indices 0 from 99\n",
    "custom_record1 = reviews.loc[0:99,columns]\n",
    "# custom_record1\n"
   ]
  },
  {
   "cell_type": "code",
   "execution_count": 6,
   "metadata": {},
   "outputs": [],
   "source": [
    "# selecting through conditon statement\n",
    "# type1\n",
    "portugal_wines = reviews.loc[reviews.country == 'Portugal']\n",
    "# type2\n",
    "portugal_wines1 = reviews.loc[lambda reviews: reviews.country == 'Portugal']\n",
    "# portugal_wines"
   ]
  },
  {
   "cell_type": "code",
   "execution_count": 7,
   "metadata": {},
   "outputs": [],
   "source": [
    "# set an value to entire row\n",
    "cool = 12345\n",
    "entire_row = reviews.loc[1,:] = cool\n",
    "# reviews.head(3)\n"
   ]
  },
  {
   "cell_type": "code",
   "execution_count": 8,
   "metadata": {},
   "outputs": [],
   "source": [
    "# set an value to entire column\n",
    "entire_column = reviews.loc[:,'region_2'] = cool\n",
    "# reviews.head(3)\n"
   ]
  },
  {
   "cell_type": "code",
   "execution_count": 13,
   "metadata": {},
   "outputs": [],
   "source": [
    "# set an value for row matching callable condition\n",
    "reviews.loc[reviews['price'] == 32] = 9999\n",
    "# NaN_price\n",
    "# reviews.loc[reviews.price == 9999]\n"
   ]
  },
  {
   "cell_type": "code",
   "execution_count": 22,
   "metadata": {},
   "outputs": [],
   "source": [
    "# selecting top ociena wines using condition\n",
    "countries = ['Australia','New Zealand']\n",
    "top_oceania_wines = reviews.loc[(reviews.country.isin(countries)) & (reviews.points >= 95)]\n",
    "# top_oceania_wines\n"
   ]
  },
  {
   "cell_type": "code",
   "execution_count": 29,
   "metadata": {},
   "outputs": [],
   "source": [
    "# Manipulating index value\n",
    "price_index = reviews.set_index('price')\n",
    "# price_index\n"
   ]
  },
  {
   "cell_type": "code",
   "execution_count": 30,
   "metadata": {},
   "outputs": [
    {
     "data": {
      "text/plain": [
       "0          True\n",
       "1         False\n",
       "          ...  \n",
       "129969    False\n",
       "129970    False\n",
       "Name: country, Length: 129971, dtype: bool"
      ]
     },
     "execution_count": 30,
     "metadata": {},
     "output_type": "execute_result"
    }
   ],
   "source": [
    "# Conditional selection retu\n",
    "reviews.country == \"Italy\""
   ]
  }
 ],
 "metadata": {
  "kernelspec": {
   "display_name": "Python 3",
   "language": "python",
   "name": "python3"
  },
  "language_info": {
   "codemirror_mode": {
    "name": "ipython",
    "version": 3
   },
   "file_extension": ".py",
   "mimetype": "text/x-python",
   "name": "python",
   "nbconvert_exporter": "python",
   "pygments_lexer": "ipython3",
   "version": "3.6.8"
  }
 },
 "nbformat": 4,
 "nbformat_minor": 2
}
